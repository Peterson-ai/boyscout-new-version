{
  "cells": [
    {
      "cell_type": "markdown",
      "metadata": {
        "id": "view-in-github",
        "colab_type": "text"
      },
      "source": [
        "<a href=\"https://colab.research.google.com/github/Peterson-ai/boyscout-new-version/blob/main/Donor_Profiling_Model_BSA_Final_(Group3).ipynb\" target=\"_parent\"><img src=\"https://colab.research.google.com/assets/colab-badge.svg\" alt=\"Open In Colab\"/></a>"
      ]
    },
    {
      "cell_type": "markdown",
      "id": "74d76964",
      "metadata": {
        "id": "74d76964"
      },
      "source": [
        "# BOY SCOUTS OF AMERICA"
      ]
    },
    {
      "cell_type": "markdown",
      "id": "20a028af",
      "metadata": {
        "id": "20a028af"
      },
      "source": [
        "# AI-Powered Donor Profiling Plateform"
      ]
    },
    {
      "cell_type": "markdown",
      "id": "45280a50",
      "metadata": {
        "id": "45280a50"
      },
      "source": [
        "# Problem Description\n",
        "Background:<br>\n",
        "•\tBoy Scouts of America (BSA) is a nonprofit organization aimed at providing youth programs that build character and teach lifelong skills.<br>\n",
        "•\tCompany Type: Community-focused non-profit organization.<br>\n",
        "•\tUser Base: Scoutreach programs, underserved communities, local businesses, philanthropists, and community donors.<br>\n",
        "•\tCurrent App: The existing platform allows for general donations but lacks the capability to connect donors with specific Scoutreach programs and does not provide transparency on how funds are used.<br>\n",
        "\n",
        "Problems:\n",
        "1.\tLack of consistent funding: Many Scoutreach programs do not receive sufficient financial support, especially in underserved areas.\n",
        "2.\tLack of transparency: Donors are often unaware of how their contributions are being utilized, leading to decrease engagement.\n",
        "3.\tLimited donor engagement: Current communication and engagement strategies are not personalized or optimized, resulting in lower donor retention.<br> <br>\n",
        "\n",
        "# Proposed Solution\n",
        "\n",
        "Problem 1: Lack of Consistent Funding<br>\n",
        "•\tSolution: The app provides a targeted donation system where donors can directly contribute to specific Scoutreach sites based on their funding needs.<br>\n",
        "\n",
        "•\tEthical Implication: Ensuring equitable distribution of funds to all programs while avoiding bias toward more visible or popular areas. It’s crucial that the app doesn’t disproportionately direct donations to only the most publicized or “popular” programs.<br>\n",
        "\n",
        "Problem 2: Lack of Transparency<br>\n",
        "•\tSolution: The app introduces an interactive dashboard that provides real-time tracking of donations and funding goals, ensuring donors can see how their contributions are being used.<br>\n",
        "\n",
        "•\tEthical Implication: Transparency is essential to maintaining trust, but it's important that privacy and confidentiality are respected, especially when displaying sensitive data about schools or program participants.<br>\n",
        "\n",
        "Problem 3: Limited Donor Engagement<br>\n",
        "•\tSolution: AI-powered donor profiling and engagement analytics will tailor communication and outreach efforts based on donor preferences, resulting in personalized engagement strategies.<br>\n",
        "\n",
        "•\tEthical Implication: Using AI to profile donors can raise privacy concerns. It is essential to ensure that donor data is protected and used ethically, with full consent and in compliance with privacy regulations.\n"
      ]
    },
    {
      "cell_type": "code",
      "execution_count": null,
      "id": "ca46f0da",
      "metadata": {
        "id": "ca46f0da"
      },
      "outputs": [],
      "source": [
        "# Import necessary libraries\n",
        "import pandas as pd\n",
        "import numpy as np\n",
        "import seaborn as sns\n",
        "import matplotlib.pyplot as plt\n",
        "from sklearn.model_selection import train_test_split\n",
        "from sklearn.ensemble import RandomForestClassifier\n",
        "from matplotlib.colors import ListedColormap\n",
        "from sklearn.preprocessing import StandardScaler\n",
        "from sklearn.model_selection import train_test_split\n",
        "from sklearn.metrics import accuracy_score, confusion_matrix, classification_report\n",
        "from sklearn.cluster import KMeans\n",
        "from sklearn.metrics import classification_report, accuracy_score\n",
        "from sklearn.preprocessing import StandardScaler, LabelEncoder"
      ]
    },
    {
      "cell_type": "code",
      "execution_count": null,
      "id": "ed9cc7f3",
      "metadata": {
        "id": "ed9cc7f3",
        "outputId": "04ac78e4-3863-4755-889c-cfc00538c708"
      },
      "outputs": [
        {
          "data": {
            "text/html": [
              "<div>\n",
              "<style scoped>\n",
              "    .dataframe tbody tr th:only-of-type {\n",
              "        vertical-align: middle;\n",
              "    }\n",
              "\n",
              "    .dataframe tbody tr th {\n",
              "        vertical-align: top;\n",
              "    }\n",
              "\n",
              "    .dataframe thead th {\n",
              "        text-align: right;\n",
              "    }\n",
              "</style>\n",
              "<table border=\"1\" class=\"dataframe\">\n",
              "  <thead>\n",
              "    <tr style=\"text-align: right;\">\n",
              "      <th></th>\n",
              "      <th>ID</th>\n",
              "      <th>AppealCode</th>\n",
              "      <th>Year</th>\n",
              "      <th>AppealName</th>\n",
              "      <th>Structure</th>\n",
              "      <th>Giving Category</th>\n",
              "      <th>Last/Org Name</th>\n",
              "      <th>City</th>\n",
              "      <th>State</th>\n",
              "      <th>ZIP</th>\n",
              "      <th>Org/Contact Email</th>\n",
              "      <th>Donation Amount</th>\n",
              "    </tr>\n",
              "  </thead>\n",
              "  <tbody>\n",
              "    <tr>\n",
              "      <th>0</th>\n",
              "      <td>8-48537072</td>\n",
              "      <td>S14</td>\n",
              "      <td>2014</td>\n",
              "      <td>Friends of Scouting</td>\n",
              "      <td>A-Lighthouse</td>\n",
              "      <td>Coconut Creek</td>\n",
              "      <td>Adams</td>\n",
              "      <td>Ocala</td>\n",
              "      <td>FL</td>\n",
              "      <td>34480-6143</td>\n",
              "      <td>kga99@earthlink.net</td>\n",
              "      <td>30</td>\n",
              "    </tr>\n",
              "    <tr>\n",
              "      <th>1</th>\n",
              "      <td>8-52345141</td>\n",
              "      <td>S15</td>\n",
              "      <td>2015</td>\n",
              "      <td>Friends of Scouting</td>\n",
              "      <td>A-Lighthouse</td>\n",
              "      <td>Coconut Creek</td>\n",
              "      <td>Brown</td>\n",
              "      <td>NaN</td>\n",
              "      <td>NaN</td>\n",
              "      <td>NaN</td>\n",
              "      <td>NaN</td>\n",
              "      <td>20</td>\n",
              "    </tr>\n",
              "    <tr>\n",
              "      <th>2</th>\n",
              "      <td>8-50663037</td>\n",
              "      <td>S15</td>\n",
              "      <td>2015</td>\n",
              "      <td>Friends of Scouting</td>\n",
              "      <td>A-Lighthouse</td>\n",
              "      <td>Coconut Creek</td>\n",
              "      <td>Gordon</td>\n",
              "      <td>Palmetto Bay</td>\n",
              "      <td>FL</td>\n",
              "      <td>33158-1955</td>\n",
              "      <td>NaN</td>\n",
              "      <td>55</td>\n",
              "    </tr>\n",
              "    <tr>\n",
              "      <th>3</th>\n",
              "      <td>8-50663037</td>\n",
              "      <td>S14</td>\n",
              "      <td>2014</td>\n",
              "      <td>Friends of Scouting</td>\n",
              "      <td>A-Lighthouse</td>\n",
              "      <td>Coconut Creek</td>\n",
              "      <td>Gordon</td>\n",
              "      <td>Palmetto Bay</td>\n",
              "      <td>FL</td>\n",
              "      <td>33158-1955</td>\n",
              "      <td>NaN</td>\n",
              "      <td>75</td>\n",
              "    </tr>\n",
              "    <tr>\n",
              "      <th>4</th>\n",
              "      <td>8-50663037</td>\n",
              "      <td>S16</td>\n",
              "      <td>2016</td>\n",
              "      <td>Friends of Scouting</td>\n",
              "      <td>A-Lighthouse</td>\n",
              "      <td>Coconut Creek</td>\n",
              "      <td>Gordon</td>\n",
              "      <td>Palmetto Bay</td>\n",
              "      <td>FL</td>\n",
              "      <td>33158-1955</td>\n",
              "      <td>NaN</td>\n",
              "      <td>65</td>\n",
              "    </tr>\n",
              "    <tr>\n",
              "      <th>...</th>\n",
              "      <td>...</td>\n",
              "      <td>...</td>\n",
              "      <td>...</td>\n",
              "      <td>...</td>\n",
              "      <td>...</td>\n",
              "      <td>...</td>\n",
              "      <td>...</td>\n",
              "      <td>...</td>\n",
              "      <td>...</td>\n",
              "      <td>...</td>\n",
              "      <td>...</td>\n",
              "      <td>...</td>\n",
              "    </tr>\n",
              "    <tr>\n",
              "      <th>13358</th>\n",
              "      <td>8-50292658</td>\n",
              "      <td>ES22</td>\n",
              "      <td>2022</td>\n",
              "      <td>Council Dinner - Eagle Scout Sponsor</td>\n",
              "      <td>South Florida Council</td>\n",
              "      <td>Sponsorship</td>\n",
              "      <td>Speight</td>\n",
              "      <td>Hutchinson Island</td>\n",
              "      <td>FL</td>\n",
              "      <td>34949-8873</td>\n",
              "      <td>aliciabotero@icloud.com</td>\n",
              "      <td>300</td>\n",
              "    </tr>\n",
              "    <tr>\n",
              "      <th>13359</th>\n",
              "      <td>8-53131457</td>\n",
              "      <td>ES24</td>\n",
              "      <td>2024</td>\n",
              "      <td>Council Dinner - Eagle Scout Sponsor</td>\n",
              "      <td>South Florida Council</td>\n",
              "      <td>Sponsorship</td>\n",
              "      <td>Valle</td>\n",
              "      <td>Miami Springs</td>\n",
              "      <td>FL</td>\n",
              "      <td>33166-5031</td>\n",
              "      <td>fvalle@colodnyfass.com</td>\n",
              "      <td>325</td>\n",
              "    </tr>\n",
              "    <tr>\n",
              "      <th>13360</th>\n",
              "      <td>8-46488132</td>\n",
              "      <td>ES22</td>\n",
              "      <td>2022</td>\n",
              "      <td>Council Dinner - Eagle Scout Sponsor</td>\n",
              "      <td>South Florida Council</td>\n",
              "      <td>Sponsorship</td>\n",
              "      <td>Van Note</td>\n",
              "      <td>Ocala</td>\n",
              "      <td>FL</td>\n",
              "      <td>34470-2116</td>\n",
              "      <td>tdpromo@comcast.net</td>\n",
              "      <td>300</td>\n",
              "    </tr>\n",
              "    <tr>\n",
              "      <th>13361</th>\n",
              "      <td>8-57113554</td>\n",
              "      <td>ES21</td>\n",
              "      <td>2021</td>\n",
              "      <td>Council Dinner - Eagle Scout Sponsor</td>\n",
              "      <td>South Florida Council</td>\n",
              "      <td>Sponsorship</td>\n",
              "      <td>Ward</td>\n",
              "      <td>Kohler</td>\n",
              "      <td>WI</td>\n",
              "      <td>53044-1517</td>\n",
              "      <td>jward628@gmail.com</td>\n",
              "      <td>630</td>\n",
              "    </tr>\n",
              "    <tr>\n",
              "      <th>13362</th>\n",
              "      <td>8-57870629</td>\n",
              "      <td>ES22</td>\n",
              "      <td>2022</td>\n",
              "      <td>Council Dinner - Eagle Scout Sponsor</td>\n",
              "      <td>South Florida Council</td>\n",
              "      <td>Sponsorship</td>\n",
              "      <td>Weber</td>\n",
              "      <td>Miami Shores</td>\n",
              "      <td>FL</td>\n",
              "      <td>33138-2937</td>\n",
              "      <td>steve@weberlawpa.com</td>\n",
              "      <td>325</td>\n",
              "    </tr>\n",
              "  </tbody>\n",
              "</table>\n",
              "<p>13363 rows × 12 columns</p>\n",
              "</div>"
            ],
            "text/plain": [
              "               ID AppealCode  Year                            AppealName  \\\n",
              "0      8-48537072        S14  2014                   Friends of Scouting   \n",
              "1      8-52345141        S15  2015                   Friends of Scouting   \n",
              "2      8-50663037        S15  2015                   Friends of Scouting   \n",
              "3      8-50663037        S14  2014                   Friends of Scouting   \n",
              "4      8-50663037        S16  2016                   Friends of Scouting   \n",
              "...           ...        ...   ...                                   ...   \n",
              "13358  8-50292658       ES22  2022  Council Dinner - Eagle Scout Sponsor   \n",
              "13359  8-53131457       ES24  2024  Council Dinner - Eagle Scout Sponsor   \n",
              "13360  8-46488132       ES22  2022  Council Dinner - Eagle Scout Sponsor   \n",
              "13361  8-57113554       ES21  2021  Council Dinner - Eagle Scout Sponsor   \n",
              "13362  8-57870629       ES22  2022  Council Dinner - Eagle Scout Sponsor   \n",
              "\n",
              "                   Structure Giving Category Last/Org Name               City  \\\n",
              "0               A-Lighthouse   Coconut Creek         Adams              Ocala   \n",
              "1               A-Lighthouse   Coconut Creek         Brown                NaN   \n",
              "2               A-Lighthouse   Coconut Creek        Gordon       Palmetto Bay   \n",
              "3               A-Lighthouse   Coconut Creek        Gordon       Palmetto Bay   \n",
              "4               A-Lighthouse   Coconut Creek        Gordon       Palmetto Bay   \n",
              "...                      ...             ...           ...                ...   \n",
              "13358  South Florida Council     Sponsorship       Speight  Hutchinson Island   \n",
              "13359  South Florida Council     Sponsorship         Valle      Miami Springs   \n",
              "13360  South Florida Council     Sponsorship      Van Note              Ocala   \n",
              "13361  South Florida Council     Sponsorship          Ward             Kohler   \n",
              "13362  South Florida Council     Sponsorship         Weber       Miami Shores   \n",
              "\n",
              "      State         ZIP        Org/Contact Email  Donation Amount  \n",
              "0        FL  34480-6143      kga99@earthlink.net               30  \n",
              "1       NaN         NaN                      NaN               20  \n",
              "2        FL  33158-1955                      NaN               55  \n",
              "3        FL  33158-1955                      NaN               75  \n",
              "4        FL  33158-1955                      NaN               65  \n",
              "...     ...         ...                      ...              ...  \n",
              "13358    FL  34949-8873  aliciabotero@icloud.com              300  \n",
              "13359    FL  33166-5031   fvalle@colodnyfass.com              325  \n",
              "13360    FL  34470-2116      tdpromo@comcast.net              300  \n",
              "13361    WI  53044-1517       jward628@gmail.com              630  \n",
              "13362    FL  33138-2937     steve@weberlawpa.com              325  \n",
              "\n",
              "[13363 rows x 12 columns]"
            ]
          },
          "execution_count": 2,
          "metadata": {},
          "output_type": "execute_result"
        }
      ],
      "source": [
        "# Load dataset\n",
        "# CSV file \"donor_data.csv\" with columns:\n",
        "# 'ID', 'AppealCode', 'Year', 'AppealName', 'Structure', 'GivingCategory', 'Last/Org Name', 'City', 'State', 'ZIP',\n",
        "# 'OrgContactEmail, 'DonationAmount'\n",
        "data = pd.read_csv('donor_data2.csv')\n",
        "data"
      ]
    },
    {
      "cell_type": "code",
      "execution_count": null,
      "id": "d2c393be",
      "metadata": {
        "id": "d2c393be",
        "outputId": "a27c9c73-b2a4-4297-ee10-fa847a064d29"
      },
      "outputs": [
        {
          "name": "stdout",
          "output_type": "stream",
          "text": [
            "<class 'pandas.core.frame.DataFrame'>\n",
            "RangeIndex: 13363 entries, 0 to 13362\n",
            "Data columns (total 12 columns):\n",
            " #   Column             Non-Null Count  Dtype \n",
            "---  ------             --------------  ----- \n",
            " 0   ID                 13363 non-null  object\n",
            " 1   AppealCode         13363 non-null  object\n",
            " 2   Year               13363 non-null  int64 \n",
            " 3   AppealName         13363 non-null  object\n",
            " 4   Structure          13363 non-null  object\n",
            " 5   Giving Category    13363 non-null  object\n",
            " 6   Last/Org Name      13363 non-null  object\n",
            " 7   City               13250 non-null  object\n",
            " 8   State              13244 non-null  object\n",
            " 9   ZIP                13250 non-null  object\n",
            " 10  Org/Contact Email  10234 non-null  object\n",
            " 11  Donation Amount    13363 non-null  int64 \n",
            "dtypes: int64(2), object(10)\n",
            "memory usage: 1.2+ MB\n"
          ]
        }
      ],
      "source": [
        "# to see which columns having missing data (NaN), we can use a function inside pandas.\n",
        "\n",
        "# View the data information\n",
        "data.info()"
      ]
    },
    {
      "cell_type": "code",
      "execution_count": null,
      "id": "8afa0afe",
      "metadata": {
        "id": "8afa0afe",
        "outputId": "4f5eac85-5009-4767-b32c-0c4bb422485f"
      },
      "outputs": [
        {
          "data": {
            "text/plain": [
              "ID                      0\n",
              "AppealCode              0\n",
              "Year                    0\n",
              "AppealName              0\n",
              "Structure               0\n",
              "Giving Category         0\n",
              "Last/Org Name           0\n",
              "City                  113\n",
              "State                 119\n",
              "ZIP                   113\n",
              "Org/Contact Email    3129\n",
              "Donation Amount         0\n",
              "dtype: int64"
            ]
          },
          "execution_count": 4,
          "metadata": {},
          "output_type": "execute_result"
        }
      ],
      "source": [
        "#Check the total number of unfilled data cells\n",
        "data.isnull().sum()"
      ]
    },
    {
      "cell_type": "markdown",
      "id": "0ac78197",
      "metadata": {
        "id": "0ac78197"
      },
      "source": [
        "# Fixing Missing Data\n",
        "There are two methods we can try:<br>\n",
        "1. Remove missing data.\n",
        "2. Fill missing data with a pre-set value. <br>\n"
      ]
    },
    {
      "cell_type": "code",
      "execution_count": null,
      "id": "c5f24565",
      "metadata": {
        "id": "c5f24565"
      },
      "outputs": [],
      "source": [
        "# Drop rows where 'Org/Contact Email' is null\n",
        "data.dropna(subset=[\"Org/Contact Email\"], inplace=True)"
      ]
    },
    {
      "cell_type": "code",
      "execution_count": null,
      "id": "2ac6e052",
      "metadata": {
        "id": "2ac6e052",
        "outputId": "a464c445-8fc7-49b9-fae7-74932b833cce"
      },
      "outputs": [
        {
          "data": {
            "text/plain": [
              "ID                    0\n",
              "AppealCode            0\n",
              "Year                  0\n",
              "AppealName            0\n",
              "Structure             0\n",
              "Giving Category       0\n",
              "Last/Org Name         0\n",
              "City                 13\n",
              "State                18\n",
              "ZIP                  15\n",
              "Org/Contact Email     0\n",
              "Donation Amount       0\n",
              "dtype: int64"
            ]
          },
          "execution_count": 6,
          "metadata": {},
          "output_type": "execute_result"
        }
      ],
      "source": [
        "#Check the total number of unfilled data cells again.\n",
        "data.isnull().sum()"
      ]
    },
    {
      "cell_type": "code",
      "execution_count": null,
      "id": "676f4b09",
      "metadata": {
        "id": "676f4b09",
        "outputId": "8a765ce9-dc83-4816-f912-ceefecc6f6f6"
      },
      "outputs": [
        {
          "data": {
            "text/html": [
              "<div>\n",
              "<style scoped>\n",
              "    .dataframe tbody tr th:only-of-type {\n",
              "        vertical-align: middle;\n",
              "    }\n",
              "\n",
              "    .dataframe tbody tr th {\n",
              "        vertical-align: top;\n",
              "    }\n",
              "\n",
              "    .dataframe thead th {\n",
              "        text-align: right;\n",
              "    }\n",
              "</style>\n",
              "<table border=\"1\" class=\"dataframe\">\n",
              "  <thead>\n",
              "    <tr style=\"text-align: right;\">\n",
              "      <th></th>\n",
              "      <th>Year</th>\n",
              "      <th>AppealName</th>\n",
              "      <th>Structure</th>\n",
              "      <th>Giving Category</th>\n",
              "      <th>Donation Amount</th>\n",
              "    </tr>\n",
              "  </thead>\n",
              "  <tbody>\n",
              "    <tr>\n",
              "      <th>0</th>\n",
              "      <td>2014</td>\n",
              "      <td>Friends of Scouting</td>\n",
              "      <td>A-Lighthouse</td>\n",
              "      <td>Coconut Creek</td>\n",
              "      <td>30</td>\n",
              "    </tr>\n",
              "    <tr>\n",
              "      <th>28</th>\n",
              "      <td>2016</td>\n",
              "      <td>Friends of Scouting</td>\n",
              "      <td>A-Lighthouse</td>\n",
              "      <td>Coral Springs</td>\n",
              "      <td>1000</td>\n",
              "    </tr>\n",
              "    <tr>\n",
              "      <th>29</th>\n",
              "      <td>2015</td>\n",
              "      <td>Friends of Scouting</td>\n",
              "      <td>A-Lighthouse</td>\n",
              "      <td>Coral Springs</td>\n",
              "      <td>1000</td>\n",
              "    </tr>\n",
              "    <tr>\n",
              "      <th>40</th>\n",
              "      <td>2016</td>\n",
              "      <td>Friends of Scouting</td>\n",
              "      <td>A-Lighthouse</td>\n",
              "      <td>Coral Springs</td>\n",
              "      <td>125</td>\n",
              "    </tr>\n",
              "    <tr>\n",
              "      <th>41</th>\n",
              "      <td>2015</td>\n",
              "      <td>Friends of Scouting</td>\n",
              "      <td>A-Lighthouse</td>\n",
              "      <td>Coral Springs</td>\n",
              "      <td>1000</td>\n",
              "    </tr>\n",
              "    <tr>\n",
              "      <th>...</th>\n",
              "      <td>...</td>\n",
              "      <td>...</td>\n",
              "      <td>...</td>\n",
              "      <td>...</td>\n",
              "      <td>...</td>\n",
              "    </tr>\n",
              "    <tr>\n",
              "      <th>13358</th>\n",
              "      <td>2022</td>\n",
              "      <td>Council Dinner - Eagle Scout Sponsor</td>\n",
              "      <td>South Florida Council</td>\n",
              "      <td>Sponsorship</td>\n",
              "      <td>300</td>\n",
              "    </tr>\n",
              "    <tr>\n",
              "      <th>13359</th>\n",
              "      <td>2024</td>\n",
              "      <td>Council Dinner - Eagle Scout Sponsor</td>\n",
              "      <td>South Florida Council</td>\n",
              "      <td>Sponsorship</td>\n",
              "      <td>325</td>\n",
              "    </tr>\n",
              "    <tr>\n",
              "      <th>13360</th>\n",
              "      <td>2022</td>\n",
              "      <td>Council Dinner - Eagle Scout Sponsor</td>\n",
              "      <td>South Florida Council</td>\n",
              "      <td>Sponsorship</td>\n",
              "      <td>300</td>\n",
              "    </tr>\n",
              "    <tr>\n",
              "      <th>13361</th>\n",
              "      <td>2021</td>\n",
              "      <td>Council Dinner - Eagle Scout Sponsor</td>\n",
              "      <td>South Florida Council</td>\n",
              "      <td>Sponsorship</td>\n",
              "      <td>630</td>\n",
              "    </tr>\n",
              "    <tr>\n",
              "      <th>13362</th>\n",
              "      <td>2022</td>\n",
              "      <td>Council Dinner - Eagle Scout Sponsor</td>\n",
              "      <td>South Florida Council</td>\n",
              "      <td>Sponsorship</td>\n",
              "      <td>325</td>\n",
              "    </tr>\n",
              "  </tbody>\n",
              "</table>\n",
              "<p>10234 rows × 5 columns</p>\n",
              "</div>"
            ],
            "text/plain": [
              "       Year                            AppealName              Structure  \\\n",
              "0      2014                   Friends of Scouting           A-Lighthouse   \n",
              "28     2016                   Friends of Scouting           A-Lighthouse   \n",
              "29     2015                   Friends of Scouting           A-Lighthouse   \n",
              "40     2016                   Friends of Scouting           A-Lighthouse   \n",
              "41     2015                   Friends of Scouting           A-Lighthouse   \n",
              "...     ...                                   ...                    ...   \n",
              "13358  2022  Council Dinner - Eagle Scout Sponsor  South Florida Council   \n",
              "13359  2024  Council Dinner - Eagle Scout Sponsor  South Florida Council   \n",
              "13360  2022  Council Dinner - Eagle Scout Sponsor  South Florida Council   \n",
              "13361  2021  Council Dinner - Eagle Scout Sponsor  South Florida Council   \n",
              "13362  2022  Council Dinner - Eagle Scout Sponsor  South Florida Council   \n",
              "\n",
              "      Giving Category  Donation Amount  \n",
              "0       Coconut Creek               30  \n",
              "28      Coral Springs             1000  \n",
              "29      Coral Springs             1000  \n",
              "40      Coral Springs              125  \n",
              "41      Coral Springs             1000  \n",
              "...               ...              ...  \n",
              "13358     Sponsorship              300  \n",
              "13359     Sponsorship              325  \n",
              "13360     Sponsorship              300  \n",
              "13361     Sponsorship              630  \n",
              "13362     Sponsorship              325  \n",
              "\n",
              "[10234 rows x 5 columns]"
            ]
          },
          "execution_count": 7,
          "metadata": {},
          "output_type": "execute_result"
        }
      ],
      "source": [
        "# Data Preprocessing\n",
        "# Drop unnecessary columns\n",
        "df = data.drop(columns=['ID', 'Last/Org Name', 'City', 'State', 'ZIP', 'Org/Contact Email', 'AppealCode'])\n",
        "df"
      ]
    },
    {
      "cell_type": "code",
      "execution_count": null,
      "id": "74c4fd52",
      "metadata": {
        "id": "74c4fd52",
        "outputId": "c4b5bed9-a387-4618-9782-602985f8c699"
      },
      "outputs": [
        {
          "name": "stdout",
          "output_type": "stream",
          "text": [
            "Mapping for Giving Category: {'Advertising': 0, 'Aventura': 1, 'Brickell': 2, 'Camp Elmore Capital Investment': 3, 'Camp Sawyer Capital Investment': 4, 'Coconut Creek': 5, 'Coconut Grove': 6, 'Community': 7, 'Cooper City': 8, 'Coral Gables': 9, 'Coral Springs': 10, 'Cutler Bay': 11, 'Davie': 12, 'Doral': 13, 'Eagle Kits': 14, 'Elmore Dining Shelter': 15, 'Endowment': 16, 'Executive Board': 17, 'Family': 18, 'Fort Lauderdale': 19, 'Hialeah': 20, 'Hollywood': 21, 'Homestead': 22, 'James E. West': 23, 'Kendall': 24, 'Key Biscayne': 25, 'Lower Keys/Key West': 26, 'Miami': 27, 'Miami Beach': 28, 'Miami Lakes': 29, 'Middle Keys/Marathon': 30, 'Miramar': 31, 'North Fort Lauderdale': 32, 'OA Ceremonies Ring': 33, 'Palmetto Bay': 34, 'Participants': 35, 'Pembroke Pines': 36, 'Pinecrest': 37, 'Pompano Beach': 38, 'South Miami': 39, 'Sponsor': 40, 'Sponsorship': 41, 'Sunrise': 42, 'Table Sponsorships': 43, 'Upper Keys/Key Largo': 44, 'Weston': 45}\n"
          ]
        }
      ],
      "source": [
        "# Encoding categorical features (e.g., 'Appeal', 'Structure', 'Giving Category')\n",
        "label_encoders = {}\n",
        "categorical_columns = ['AppealName', 'Structure', 'Giving Category']\n",
        "for col in categorical_columns:\n",
        "    le = LabelEncoder()\n",
        "    df[col] = le.fit_transform(data[col])\n",
        "    label_encoders[col] = le  # Store encoder for future use\n",
        "\n",
        "# Print the mapping\n",
        "mapping = dict(zip(le.classes_, le.transform(le.classes_)))\n",
        "print(f\"Mapping for {col}: {mapping}\")"
      ]
    },
    {
      "cell_type": "code",
      "execution_count": null,
      "id": "c7b68bd8",
      "metadata": {
        "id": "c7b68bd8"
      },
      "outputs": [],
      "source": [
        "# Separate features and target variable\n",
        "# We want to classify donors into \"high\" or \"low\" engagement classes\n",
        "# based on 'Donation Amount', with high engagement for donors contributing above the median.\n",
        "df['target_class'] = (df['Donation Amount'] >= df['Donation Amount'].median()).astype(int)\n",
        "\n",
        "# Split the data into features and target\n",
        "X = df.drop(columns=['Donation Amount', 'target_class'])\n",
        "y = df['target_class']\n",
        "\n",
        "# Split data into training and testing sets\n",
        "X_train, X_test, y_train, y_test = train_test_split(X, y, test_size=0.3, random_state=42)\n",
        "\n",
        "# Standardize numerical features\n",
        "scaler = StandardScaler()\n",
        "X_train = scaler.fit_transform(X_train)\n",
        "X_test = scaler.transform(X_test)"
      ]
    },
    {
      "cell_type": "code",
      "execution_count": null,
      "id": "0e3a44fd",
      "metadata": {
        "id": "0e3a44fd",
        "outputId": "15b52146-28ca-4631-83cc-34e5822d7efc"
      },
      "outputs": [
        {
          "name": "stdout",
          "output_type": "stream",
          "text": [
            "150.0\n"
          ]
        }
      ],
      "source": [
        "print(df['Donation Amount'].median()) # View of the median amount for classification"
      ]
    },
    {
      "cell_type": "code",
      "execution_count": null,
      "id": "0e0ac86d",
      "metadata": {
        "id": "0e0ac86d",
        "outputId": "716cf4eb-108f-401a-da95-2f14ec09abbe"
      },
      "outputs": [
        {
          "name": "stdout",
          "output_type": "stream",
          "text": [
            "Classification Report:\n",
            "               precision    recall  f1-score   support\n",
            "\n",
            "           0       0.51      0.15      0.23      1203\n",
            "           1       0.62      0.91      0.74      1868\n",
            "\n",
            "    accuracy                           0.61      3071\n",
            "   macro avg       0.57      0.53      0.48      3071\n",
            "weighted avg       0.58      0.61      0.54      3071\n",
            "\n",
            "Accuracy Score: 0.6098990556821882\n",
            "Feature Importance:\n",
            "            feature  importance\n",
            "3  Giving Category    0.378088\n",
            "0             Year    0.309891\n",
            "2        Structure    0.242509\n",
            "1       AppealName    0.069512\n"
          ]
        }
      ],
      "source": [
        "### Model 1: Classification Model - Random Forest for Donor Profiling\n",
        "rf_model = RandomForestClassifier(n_estimators=100, random_state=42)\n",
        "rf_model.fit(X_train, y_train)\n",
        "\n",
        "# Predict on test data\n",
        "y_pred = rf_model.predict(X_test)\n",
        "\n",
        "# Evaluate the model\n",
        "print(\"Classification Report:\\n\", classification_report(y_test, y_pred))\n",
        "print(\"Accuracy Score:\", accuracy_score(y_test, y_pred))\n",
        "\n",
        "# Feature Importance (to understand which features are significant)\n",
        "feature_importance = pd.DataFrame({\n",
        "    'feature': X.columns,\n",
        "    'importance': rf_model.feature_importances_\n",
        "}).sort_values(by='importance', ascending=False)\n",
        "\n",
        "print(\"Feature Importance:\\n\", feature_importance)"
      ]
    },
    {
      "cell_type": "code",
      "execution_count": null,
      "id": "ef80efa5",
      "metadata": {
        "id": "ef80efa5",
        "outputId": "8a2b22b7-e285-4174-9ef5-da08c9ff6d5e"
      },
      "outputs": [
        {
          "data": {
            "image/png": "[encoded data removed]",
            "text/plain": [
              "<Figure size 432x288 with 2 Axes>"
            ]
          },
          "metadata": {
            "needs_background": "light"
          },
          "output_type": "display_data"
        }
      ],
      "source": [
        "# Calculate the correlation matrix for all columns\n",
        "corr = df.corr()\n",
        "\n",
        "# Create a heatmap using Seaborn\n",
        "sns.heatmap(corr, annot=False, cmap=\"coolwarm\")\n",
        "\n",
        "# Labels and title\n",
        "plt.xlabel(\"Features\")\n",
        "plt.ylabel(\"Features\")\n",
        "plt.title('Correlations')\n",
        "plt.show()"
      ]
    },
    {
      "cell_type": "code",
      "execution_count": null,
      "id": "8808e208",
      "metadata": {
        "id": "8808e208",
        "outputId": "22229611-bab0-4d49-95ff-55f416c85f23"
      },
      "outputs": [
        {
          "name": "stdout",
          "output_type": "stream",
          "text": [
            "Donor Cluster Analysis:\n",
            "                      Year  AppealName  Structure  Giving Category  \\\n",
            "donor_cluster                                                        \n",
            "0              2020.284553    5.975610  10.206685        17.726468   \n",
            "1              2020.538136    1.603814  13.915254        37.595339   \n",
            "2              2016.008044    6.000000   4.876745        18.576768   \n",
            "\n",
            "               Donation Amount  target_class  \n",
            "donor_cluster                                 \n",
            "0                   430.309666      0.625836  \n",
            "1                  1105.379237      0.631356  \n",
            "2                   195.105512      0.592146  \n"
          ]
        }
      ],
      "source": [
        "### Model 2: Clustering - KMeans for Segmenting Donors Based on Profiles\n",
        "# Using KMeans to cluster donors for personalized engagement strategies\n",
        "# Here we use KMeans to find clusters within the donor data\n",
        "\n",
        "kmeans_model = KMeans(n_clusters=3, random_state=42)\n",
        "donor_clusters = kmeans_model.fit_predict(scaler.fit_transform(X))\n",
        "\n",
        "# Add cluster information to the original data for analysis\n",
        "df['donor_cluster'] = donor_clusters\n",
        "\n",
        "# Analyzing clusters\n",
        "print(\"Donor Cluster Analysis:\")\n",
        "print(df.groupby('donor_cluster').mean())"
      ]
    },
    {
      "cell_type": "code",
      "execution_count": null,
      "id": "ab7da2ea",
      "metadata": {
        "id": "ab7da2ea",
        "outputId": "a8fc8166-3764-4924-aa27-de40db067c22"
      },
      "outputs": [
        {
          "data": {
            "image/png": "[encoded data removed]",
            "text/plain": [
              "<Figure size 432x288 with 2 Axes>"
            ]
          },
          "metadata": {
            "needs_background": "light"
          },
          "output_type": "display_data"
        }
      ],
      "source": [
        "# Calculate the correlation matrix for all columns\n",
        "corr = df.corr()\n",
        "\n",
        "# Create a heatmap using Seaborn\n",
        "sns.heatmap(corr, annot=False, cmap=\"coolwarm\")\n",
        "\n",
        "# Labels and title\n",
        "plt.xlabel(\"Features\")\n",
        "plt.ylabel(\"Features\")\n",
        "plt.title('Correlations')\n",
        "plt.show()"
      ]
    },
    {
      "cell_type": "markdown",
      "id": "f9765e26",
      "metadata": {
        "id": "f9765e26"
      },
      "source": [
        "# Deployment\n",
        "Key Steps for the deployment:<br>\n",
        "1. Finalyze preprocessing and model training/pickling code.\n",
        "2. Develop a script/API endpoint for serving the models.\n",
        "3. Integrate the models into the application frontend.<br>\n"
      ]
    },
    {
      "cell_type": "code",
      "execution_count": null,
      "id": "15ec14c5",
      "metadata": {
        "id": "15ec14c5"
      },
      "outputs": [],
      "source": [
        "import pickle\n",
        "\n",
        "# Save the clustering model\n",
        "with open('kmeans_model.pkl', 'wb') as f:\n",
        "    pickle.dump(kmeans_model, f)\n",
        "\n",
        "# Save the classification model\n",
        "with open('rf_model.pkl', 'wb') as f:\n",
        "    pickle.dump(rf_model, f)\n"
      ]
    },
    {
      "cell_type": "code",
      "execution_count": null,
      "id": "b0185b76",
      "metadata": {
        "id": "b0185b76"
      },
      "outputs": [],
      "source": [
        "from flask import Flask, request, jsonify\n",
        "import pickle\n",
        "import pandas as pd\n",
        "import numpy as np\n",
        "\n",
        "# Initialize Flask app\n",
        "app = Flask(__name__)\n",
        "\n",
        "# Load trained models\n",
        "with open('kmeans_model.pkl', 'rb') as f:\n",
        "    kmeans_model = pickle.load(f)\n",
        "\n",
        "with open('rf_model.pkl', 'rb') as f:\n",
        "    rf_model = pickle.load(f)\n",
        "\n",
        "# Endpoint to predict donor segment\n",
        "@app.route('/predict-segment', methods=['POST'])\n",
        "def predict_segment():\n",
        "    data = request.get_json()  # Expecting JSON payload with donor features\n",
        "    features = pd.DataFrame(data)\n",
        "\n",
        "    # Preprocess and predict segment\n",
        "    segment = kmeans_model.predict(features)\n",
        "    return jsonify({'Segment': int(segment[0])})\n",
        "\n",
        "# Endpoint to predict engagement likelihood\n",
        "@app.route('/predict-engagement', methods=['POST'])\n",
        "def predict_engagement():\n",
        "    data = request.get_json()  # Expecting JSON payload with donor features\n",
        "    features = pd.DataFrame(data)\n",
        "\n",
        "    # Preprocess and predict engagement\n",
        "    engagement = rf_model.predict(features)\n",
        "    return jsonify({'Engagement': int(engagement[0])})\n",
        "\n",
        "if __name__ == '__main__':\n",
        "    app.run(debug=True)\n"
      ]
    },
    {
      "cell_type": "code",
      "execution_count": null,
      "id": "483f70cb",
      "metadata": {
        "id": "483f70cb"
      },
      "outputs": [],
      "source": []
    }
  ],
  "metadata": {
    "kernelspec": {
      "display_name": "Python 3",
      "language": "python",
      "name": "python3"
    },
    "language_info": {
      "codemirror_mode": {
        "name": "ipython",
        "version": 3
      },
      "file_extension": ".py",
      "mimetype": "text/x-python",
      "name": "python",
      "nbconvert_exporter": "python",
      "pygments_lexer": "ipython3",
      "version": "3.8.8"
    },
    "colab": {
      "provenance": [],
      "include_colab_link": true
    }
  },
  "nbformat": 4,
  "nbformat_minor": 5
}